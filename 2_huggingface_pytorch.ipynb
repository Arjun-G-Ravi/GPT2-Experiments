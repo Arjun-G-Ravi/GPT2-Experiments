{
 "cells": [
  {
   "cell_type": "markdown",
   "metadata": {},
   "source": [
    "We will use huggingface torch support to get the different weights in gpt2 model"
   ]
  },
  {
   "cell_type": "code",
   "execution_count": 1,
   "metadata": {},
   "outputs": [
    {
     "name": "stderr",
     "output_type": "stream",
     "text": [
      "/home/arjun/Desktop/AI_ENV/lib/python3.10/site-packages/tqdm/auto.py:21: TqdmWarning: IProgress not found. Please update jupyter and ipywidgets. See https://ipywidgets.readthedocs.io/en/stable/user_install.html\n",
      "  from .autonotebook import tqdm as notebook_tqdm\n",
      "/home/arjun/Desktop/AI_ENV/lib/python3.10/site-packages/transformers/tokenization_utils_base.py:1601: FutureWarning: `clean_up_tokenization_spaces` was not set. It will be set to `True` by default. This behavior will be depracted in transformers v4.45, and will be then set to `False` by default. For more details check this issue: https://github.com/huggingface/transformers/issues/31884\n",
      "  warnings.warn(\n"
     ]
    }
   ],
   "source": [
    "from transformers import GPT2Tokenizer, GPT2Model\n",
    "tokenizer = GPT2Tokenizer.from_pretrained('gpt2')\n",
    "model = GPT2Model.from_pretrained('gpt2')"
   ]
  },
  {
   "cell_type": "markdown",
   "metadata": {},
   "source": [
    "Lets see each layers in GPT-2"
   ]
  },
  {
   "cell_type": "code",
   "execution_count": 2,
   "metadata": {},
   "outputs": [
    {
     "name": "stdout",
     "output_type": "stream",
     "text": [
      "wte.weight\n",
      "wpe.weight\n",
      "h.0.ln_1.weight\n",
      "h.0.ln_1.bias\n",
      "h.0.attn.c_attn.weight\n",
      "h.0.attn.c_attn.bias\n",
      "h.0.attn.c_proj.weight\n",
      "h.0.attn.c_proj.bias\n",
      "h.0.ln_2.weight\n",
      "h.0.ln_2.bias\n",
      "h.0.mlp.c_fc.weight\n",
      "h.0.mlp.c_fc.bias\n",
      "h.0.mlp.c_proj.weight\n",
      "h.0.mlp.c_proj.bias\n",
      "h.1.ln_1.weight\n",
      "h.1.ln_1.bias\n",
      "h.1.attn.c_attn.weight\n",
      "h.1.attn.c_attn.bias\n",
      "h.1.attn.c_proj.weight\n",
      "h.1.attn.c_proj.bias\n",
      "h.1.ln_2.weight\n",
      "h.1.ln_2.bias\n",
      "h.1.mlp.c_fc.weight\n",
      "h.1.mlp.c_fc.bias\n",
      "h.1.mlp.c_proj.weight\n",
      "h.1.mlp.c_proj.bias\n",
      "h.2.ln_1.weight\n",
      "h.2.ln_1.bias\n",
      "h.2.attn.c_attn.weight\n",
      "h.2.attn.c_attn.bias\n",
      "h.2.attn.c_proj.weight\n",
      "h.2.attn.c_proj.bias\n",
      "h.2.ln_2.weight\n",
      "h.2.ln_2.bias\n",
      "h.2.mlp.c_fc.weight\n",
      "h.2.mlp.c_fc.bias\n",
      "h.2.mlp.c_proj.weight\n",
      "h.2.mlp.c_proj.bias\n",
      "h.3.ln_1.weight\n",
      "h.3.ln_1.bias\n",
      "h.3.attn.c_attn.weight\n",
      "h.3.attn.c_attn.bias\n",
      "h.3.attn.c_proj.weight\n",
      "h.3.attn.c_proj.bias\n",
      "h.3.ln_2.weight\n",
      "h.3.ln_2.bias\n",
      "h.3.mlp.c_fc.weight\n",
      "h.3.mlp.c_fc.bias\n",
      "h.3.mlp.c_proj.weight\n",
      "h.3.mlp.c_proj.bias\n",
      "h.4.ln_1.weight\n",
      "h.4.ln_1.bias\n",
      "h.4.attn.c_attn.weight\n",
      "h.4.attn.c_attn.bias\n",
      "h.4.attn.c_proj.weight\n",
      "h.4.attn.c_proj.bias\n",
      "h.4.ln_2.weight\n",
      "h.4.ln_2.bias\n",
      "h.4.mlp.c_fc.weight\n",
      "h.4.mlp.c_fc.bias\n",
      "h.4.mlp.c_proj.weight\n",
      "h.4.mlp.c_proj.bias\n",
      "h.5.ln_1.weight\n",
      "h.5.ln_1.bias\n",
      "h.5.attn.c_attn.weight\n",
      "h.5.attn.c_attn.bias\n",
      "h.5.attn.c_proj.weight\n",
      "h.5.attn.c_proj.bias\n",
      "h.5.ln_2.weight\n",
      "h.5.ln_2.bias\n",
      "h.5.mlp.c_fc.weight\n",
      "h.5.mlp.c_fc.bias\n",
      "h.5.mlp.c_proj.weight\n",
      "h.5.mlp.c_proj.bias\n",
      "h.6.ln_1.weight\n",
      "h.6.ln_1.bias\n",
      "h.6.attn.c_attn.weight\n",
      "h.6.attn.c_attn.bias\n",
      "h.6.attn.c_proj.weight\n",
      "h.6.attn.c_proj.bias\n",
      "h.6.ln_2.weight\n",
      "h.6.ln_2.bias\n",
      "h.6.mlp.c_fc.weight\n",
      "h.6.mlp.c_fc.bias\n",
      "h.6.mlp.c_proj.weight\n",
      "h.6.mlp.c_proj.bias\n",
      "h.7.ln_1.weight\n",
      "h.7.ln_1.bias\n",
      "h.7.attn.c_attn.weight\n",
      "h.7.attn.c_attn.bias\n",
      "h.7.attn.c_proj.weight\n",
      "h.7.attn.c_proj.bias\n",
      "h.7.ln_2.weight\n",
      "h.7.ln_2.bias\n",
      "h.7.mlp.c_fc.weight\n",
      "h.7.mlp.c_fc.bias\n",
      "h.7.mlp.c_proj.weight\n",
      "h.7.mlp.c_proj.bias\n",
      "h.8.ln_1.weight\n",
      "h.8.ln_1.bias\n",
      "h.8.attn.c_attn.weight\n",
      "h.8.attn.c_attn.bias\n",
      "h.8.attn.c_proj.weight\n",
      "h.8.attn.c_proj.bias\n",
      "h.8.ln_2.weight\n",
      "h.8.ln_2.bias\n",
      "h.8.mlp.c_fc.weight\n",
      "h.8.mlp.c_fc.bias\n",
      "h.8.mlp.c_proj.weight\n",
      "h.8.mlp.c_proj.bias\n",
      "h.9.ln_1.weight\n",
      "h.9.ln_1.bias\n",
      "h.9.attn.c_attn.weight\n",
      "h.9.attn.c_attn.bias\n",
      "h.9.attn.c_proj.weight\n",
      "h.9.attn.c_proj.bias\n",
      "h.9.ln_2.weight\n",
      "h.9.ln_2.bias\n",
      "h.9.mlp.c_fc.weight\n",
      "h.9.mlp.c_fc.bias\n",
      "h.9.mlp.c_proj.weight\n",
      "h.9.mlp.c_proj.bias\n",
      "h.10.ln_1.weight\n",
      "h.10.ln_1.bias\n",
      "h.10.attn.c_attn.weight\n",
      "h.10.attn.c_attn.bias\n",
      "h.10.attn.c_proj.weight\n",
      "h.10.attn.c_proj.bias\n",
      "h.10.ln_2.weight\n",
      "h.10.ln_2.bias\n",
      "h.10.mlp.c_fc.weight\n",
      "h.10.mlp.c_fc.bias\n",
      "h.10.mlp.c_proj.weight\n",
      "h.10.mlp.c_proj.bias\n",
      "h.11.ln_1.weight\n",
      "h.11.ln_1.bias\n",
      "h.11.attn.c_attn.weight\n",
      "h.11.attn.c_attn.bias\n",
      "h.11.attn.c_proj.weight\n",
      "h.11.attn.c_proj.bias\n",
      "h.11.ln_2.weight\n",
      "h.11.ln_2.bias\n",
      "h.11.mlp.c_fc.weight\n",
      "h.11.mlp.c_fc.bias\n",
      "h.11.mlp.c_proj.weight\n",
      "h.11.mlp.c_proj.bias\n",
      "ln_f.weight\n",
      "ln_f.bias\n"
     ]
    }
   ],
   "source": [
    "for i in model.state_dict():\n",
    "    print(i)"
   ]
  },
  {
   "cell_type": "code",
   "execution_count": 17,
   "metadata": {},
   "outputs": [
    {
     "data": {
      "text/plain": [
       "(tensor([[-0.1101, -0.0393,  0.0331,  ..., -0.1364,  0.0151,  0.0453],\n",
       "         [ 0.0403, -0.0486,  0.0462,  ...,  0.0861,  0.0025,  0.0432],\n",
       "         [-0.1275,  0.0479,  0.1841,  ...,  0.0899, -0.1297, -0.0879],\n",
       "         ...,\n",
       "         [-0.0445, -0.0548,  0.0123,  ...,  0.1044,  0.0978, -0.0695],\n",
       "         [ 0.1860,  0.0167,  0.0461,  ..., -0.0963,  0.0785, -0.0225],\n",
       "         [ 0.0514, -0.0277,  0.0499,  ...,  0.0070,  0.1552,  0.1207]]),\n",
       " torch.Size([50257, 768]))"
      ]
     },
     "execution_count": 17,
     "metadata": {},
     "output_type": "execute_result"
    }
   ],
   "source": [
    "model.state_dict()['wte.weight'], model.state_dict()['wte.weight'].shape"
   ]
  },
  {
   "cell_type": "code",
   "execution_count": null,
   "metadata": {},
   "outputs": [],
   "source": [
    "text = \"Replace me by any text you'd like.\"\n",
    "encoded_input = tokenizer(text, return_tensors='pt')\n",
    "output = model(**encoded_input)"
   ]
  },
  {
   "cell_type": "code",
   "execution_count": null,
   "metadata": {},
   "outputs": [],
   "source": [
    "output"
   ]
  }
 ],
 "metadata": {
  "kernelspec": {
   "display_name": "AI_ENV",
   "language": "python",
   "name": "python3"
  },
  "language_info": {
   "codemirror_mode": {
    "name": "ipython",
    "version": 3
   },
   "file_extension": ".py",
   "mimetype": "text/x-python",
   "name": "python",
   "nbconvert_exporter": "python",
   "pygments_lexer": "ipython3",
   "version": "3.10.12"
  }
 },
 "nbformat": 4,
 "nbformat_minor": 2
}
